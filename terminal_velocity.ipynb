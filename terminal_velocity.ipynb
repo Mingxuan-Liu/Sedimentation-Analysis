{
 "cells": [
  {
   "cell_type": "code",
   "execution_count": 39,
   "metadata": {
    "collapsed": true,
    "pycharm": {
     "name": "#%%\n"
    }
   },
   "outputs": [],
   "source": [
    "# This file uses the binary images to track a single sphere and determines its terminal velocity.\n",
    "import os\n",
    "\n",
    "import numpy as np\n",
    "from skimage import io\n",
    "import trackpy as tp\n",
    "from data_handler import *"
   ]
  },
  {
   "cell_type": "code",
   "execution_count": 45,
   "outputs": [
    {
     "name": "stderr",
     "output_type": "stream",
     "text": [
      "TiffPage 0: TypeError: read_bytes() missing 3 required positional arguments: 'dtype', 'count', and 'offsetsize'\n"
     ]
    }
   ],
   "source": [
    "# Set the directory path\n",
    "ultron_path = 'U:\\Mingxuan Liu'\n",
    "\n",
    "# The folder where the .tif image stack exists\n",
    "folder_name = 'Alum-vterm'\n",
    "\n",
    "# The file needed to be read\n",
    "file_name = 'Alum-vterm-binary crop.tif'\n",
    "\n",
    "# Join the directory path, folder name, and file name to locate .tif images\n",
    "tif_path = os.path.join(ultron_path, folder_name, file_name)\n",
    "\n",
    "# Read the .tif images\n",
    "frames = io.imread(tif_path)\n",
    "\n",
    "# tracking parameters\n",
    "params = {\n",
    "    'diameter': 19,\n",
    "    'minmass': 3000,\n",
    "    'invert': False,\n",
    "    'separation': 9,\n",
    "}"
   ],
   "metadata": {
    "collapsed": false,
    "pycharm": {
     "name": "#%%\n"
    }
   }
  },
  {
   "cell_type": "code",
   "execution_count": 46,
   "outputs": [
    {
     "name": "stdout",
     "output_type": "stream",
     "text": [
      "Frame 362: 1 trajectories present.\n"
     ]
    }
   ],
   "source": [
    "# process particle tracking for all frames\n",
    "data = tp.batch(frames, **params)\n",
    "\n",
    "# Link the particles in each frame to their positions in previous two frames\n",
    "link_data = tp.link(data, 15, memory=3)"
   ],
   "metadata": {
    "collapsed": false,
    "pycharm": {
     "name": "#%%\n"
    }
   }
  },
  {
   "cell_type": "code",
   "execution_count": 47,
   "outputs": [],
   "source": [
    "fps = 6  # frame rate of the video\n",
    "scale = 7.778  # scale of the imaging (pixels/mm)\n",
    "time = link_data['frame'] / fps  # time since the first frame\n",
    "y = link_data['y'] / scale  # vertical position (mm)\n",
    "_, v_y = five_point_stencil(time, y)  # take the derivative of y"
   ],
   "metadata": {
    "collapsed": false,
    "pycharm": {
     "name": "#%%\n"
    }
   }
  },
  {
   "cell_type": "code",
   "execution_count": 48,
   "outputs": [
    {
     "name": "stdout",
     "output_type": "stream",
     "text": [
      "0.0009334337077224641 m/s\n"
     ]
    }
   ],
   "source": [
    "# Calculate the terminal velocity by averaging the last 30 y velocities\n",
    "v_term = np.average(v_y[-30:] / 1000)  # 1000 scales mm/s to m/s\n",
    "print(f\"{v_term} m/s\")"
   ],
   "metadata": {
    "collapsed": false,
    "pycharm": {
     "name": "#%%\n"
    }
   }
  }
 ],
 "metadata": {
  "kernelspec": {
   "display_name": "Python 3",
   "language": "python",
   "name": "python3"
  },
  "language_info": {
   "codemirror_mode": {
    "name": "ipython",
    "version": 2
   },
   "file_extension": ".py",
   "mimetype": "text/x-python",
   "name": "python",
   "nbconvert_exporter": "python",
   "pygments_lexer": "ipython2",
   "version": "2.7.6"
  }
 },
 "nbformat": 4,
 "nbformat_minor": 0
}