{
 "cells": [
  {
   "cell_type": "code",
   "execution_count": null,
   "outputs": [],
   "source": [
    "%matplotlib inline\n",
    "\n",
    "import os\n",
    "import re\n",
    "from skimage import io\n",
    "from particle_model import Particle, Sphere\n",
    "from records import TERMINAL_VELOCITIES, RADIUS\n",
    "from plot_helper import *\n",
    "import json  # import the library that stores the particle configurations\n",
    "\n",
    "with open('particle_configurations.json') as f:\n",
    "    configurations = json.load(f)"
   ],
   "metadata": {
    "collapsed": false,
    "pycharm": {
     "name": "#%%\n"
    }
   }
  },
  {
   "cell_type": "code",
   "execution_count": null,
   "outputs": [],
   "source": [
    "# This function creates and initializes particles based on the configuration provided\n",
    "def create_particle(name):\n",
    "    # retrieve configuration from the library by name\n",
    "    configuration = configurations[name]\n",
    "    p = Particle()  # instantiate a particle object\n",
    "\n",
    "    # instantiate sphere objects\n",
    "    for sphere_config in configuration:\n",
    "        s = Sphere(sphere_config[\"center\"], sphere_config[\"radius\"], sphere_config[\"material\"])\n",
    "        p.add_sphere(s)\n",
    "\n",
    "    return p"
   ],
   "metadata": {
    "collapsed": false,
    "pycharm": {
     "name": "#%%\n"
    }
   }
  }
 ],
 "metadata": {
  "kernelspec": {
   "display_name": "Python 3",
   "language": "python",
   "name": "python3"
  },
  "language_info": {
   "codemirror_mode": {
    "name": "ipython",
    "version": 2
   },
   "file_extension": ".py",
   "mimetype": "text/x-python",
   "name": "python",
   "nbconvert_exporter": "python",
   "pygments_lexer": "ipython2",
   "version": "2.7.6"
  }
 },
 "nbformat": 4,
 "nbformat_minor": 0
}