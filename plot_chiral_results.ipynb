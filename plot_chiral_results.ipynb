{
 "cells": [
  {
   "cell_type": "code",
   "execution_count": 1,
   "outputs": [],
   "source": [
    "%matplotlib inline\n",
    "\n",
    "import os\n",
    "import re\n",
    "from skimage import io\n",
    "from particle_model import Particle, Sphere\n",
    "from records import TERMINAL_VELOCITIES, RADIUS\n",
    "from plot_helper import *\n",
    "import json  # import the library that stores the particle configurations\n",
    "\n",
    "with open('particle_configurations.json') as f:\n",
    "    configurations = json.load(f)"
   ],
   "metadata": {
    "collapsed": false,
    "pycharm": {
     "name": "#%%\n"
    }
   }
  },
  {
   "cell_type": "code",
   "execution_count": null,
   "outputs": [],
   "source": [
    "# This function creates and initializes particles based on the configuration provided\n",
    "def create_particle(name):\n",
    "    # retrieve configuration from the library by name\n",
    "    configuration = configurations[name]\n",
    "    p = Particle()  # instantiate a particle object\n",
    "\n",
    "    # instantiate sphere objects\n",
    "    for sphere_config in configuration:\n",
    "        s = Sphere(sphere_config[\"center\"], sphere_config[\"radius\"], sphere_config[\"material\"])\n",
    "        p.add_sphere(s)\n",
    "\n",
    "    return p"
   ],
   "metadata": {
    "collapsed": false,
    "pycharm": {
     "name": "#%%\n"
    }
   }
  },
  {
   "cell_type": "code",
   "execution_count": 1,
   "outputs": [],
   "source": [
    "glacier_path = 'Z:\\\\Mingxuan Liu'\n",
    "config_name = 'tetramer-pl-cu'  # name of the configuration\n",
    "folder_name = 'tetramer-pl-cu-2-6fps'\n",
    "name_light = 'pl'"
   ],
   "metadata": {
    "collapsed": false,
    "pycharm": {
     "name": "#%%\n"
    }
   }
  },
  {
   "cell_type": "code",
   "execution_count": null,
   "outputs": [],
   "source": [
    "# Create a GridSpec object\n",
    "fig = plt.figure(figsize=(13, 16))\n",
    "gs = gridspec.GridSpec(2, 4)  # 2 rows and 4 columns\n",
    "\n",
    "# Create subplots\n",
    "ax1 = plt.subplot(gs[0, 0], projection='3d')  # Top left for 3D particle model\n",
    "ax2 = plt.subplot(gs[0, 1])  # Top middle for the stacked image\n",
    "ax3 = plt.subplot(gs[0, 2:5])  # Top right for the stretched image, which spans 3 columns\n",
    "ax4 = plt.subplot(gs[1, :])  # Bottom for the particle's motion\n",
    "\n",
    "# Plot in each subplot\n",
    "# 1. Plot the 3D particle model\n",
    "p = create_particle(config_name)\n",
    "plot_particle(p, config_name, ax=ax1, transparency=True)\n",
    "\n",
    "# 2. Plot the stacked and stretched image\n",
    "tif_path = os.path.join(glacier_path, folder_name, folder_name + ' binary crop.tif')  # specify the location of binary image\n",
    "frames = io.imread(tif_path)  # import the binary image sequence\n",
    "stacked_image = plot_stacked_image(frames, ax=ax2)  # stack the images\n",
    "plot_stretched_image(stacked_image, ax=ax3)  # pass the stacked image and then stretch it\n",
    "\n",
    "# 3. Plot the motion\n",
    "tracking_data = pd.read_csv(os.path.join(glacier_path, folder_name, folder_name + ' binary.csv'))  # import the .csv tracking data\n",
    "fps = int(re.findall(r'(\\\\d+)fps', folder_name)[0])  # extract the frame rate from the folder name using regex\n",
    "v_light_term = TERMINAL_VELOCITIES[name_light]  # read the terminal velocity of the lightest object\n",
    "tau = RADIUS / v_light_term  # calculate the time scale\n",
    "plot_motion(tracking_data, scale=7.12, frame_rate=fps, time_scale=tau, diff_method='five-point', avg_size=20, ax=ax4)\n",
    "\n",
    "# Adjust the layout\n",
    "fig.subplots_adjust(hspace=0.05, wspace=0.01)\n",
    "\n",
    "# Save the figure with 600 dpi\n",
    "plt.savefig(os.path.join('config_figure', folder_name + '.png'), dpi=600, bbox_inches='tight')\n",
    "# Show the plot\n",
    "plt.show()"
   ],
   "metadata": {
    "collapsed": false,
    "pycharm": {
     "name": "#%%\n"
    }
   }
  }
 ],
 "metadata": {
  "kernelspec": {
   "display_name": "Python 3",
   "language": "python",
   "name": "python3"
  },
  "language_info": {
   "codemirror_mode": {
    "name": "ipython",
    "version": 2
   },
   "file_extension": ".py",
   "mimetype": "text/x-python",
   "name": "python",
   "nbconvert_exporter": "python",
   "pygments_lexer": "ipython2",
   "version": "2.7.6"
  }
 },
 "nbformat": 4,
 "nbformat_minor": 0
}