{
 "cells": [
  {
   "cell_type": "code",
   "execution_count": 1,
   "metadata": {
    "collapsed": true,
    "pycharm": {
     "name": "#%%\n"
    }
   },
   "outputs": [],
   "source": [
    "import os\n",
    "import matplotlib.pyplot as plt\n",
    "from skimage import io\n",
    "import trackpy as tp\n",
    "from image_helper import crop_image, check_polar\n",
    "from particle_helper import create_particle, crop_particle\n",
    "from optimizer import optimize_rotation_angle\n",
    "\n",
    "import json\n",
    "with open('particle_configurations.json') as f:\n",
    "    configurations = json.load(f)"
   ]
  },
  {
   "cell_type": "code",
   "execution_count": 2,
   "outputs": [
    {
     "name": "stderr",
     "output_type": "stream",
     "text": [
      "TiffPage 0: TypeError: read_bytes() missing 3 required positional arguments: 'dtype', 'count', and 'offsetsize'\n"
     ]
    }
   ],
   "source": [
    "# Set the directory path\n",
    "glacier_path = 'Z:\\Mingxuan Liu'\n",
    "\n",
    "# The folder where the .tif image stack exists\n",
    "folder_name = '1Steel&1Cu_CopperUp_27_6fps_in'\n",
    "\n",
    "# The file needed to be read\n",
    "file_name = folder_name + ' binary crop.tif'\n",
    "\n",
    "# Join the directory path, folder name, and file name to locate .tif images\n",
    "tif_path = os.path.join(glacier_path, folder_name, file_name)\n",
    "\n",
    "# frames = io.imread(tif_path)\n",
    "frames = io.imread('1Steel&1Cu_CopperUp_27_6fps_in binary crop.tif')\n",
    "\n",
    "# tracking parameters\n",
    "params = {\n",
    "    'diameter': 19,\n",
    "    'minmass': 3000,\n",
    "    'invert': False,\n",
    "    'separation': 9,\n",
    "}"
   ],
   "metadata": {
    "collapsed": false,
    "pycharm": {
     "name": "#%%\n"
    }
   }
  },
  {
   "cell_type": "code",
   "execution_count": 3,
   "outputs": [],
   "source": [
    "config_name = \"dimer-st-cu\"  # name of the configuration\n",
    "theta = 40\n",
    "p = create_particle(config_name)\n",
    "p.rotate('ax2', theta)\n",
    "shadow_arr = p.shadow('xz', 10)\n",
    "cropped_particle = crop_particle(shadow_arr, 36, 36)"
   ],
   "metadata": {
    "collapsed": false,
    "pycharm": {
     "name": "#%%\n"
    }
   }
  },
  {
   "cell_type": "code",
   "execution_count": 4,
   "outputs": [
    {
     "data": {
      "text/plain": "<Figure size 432x288 with 1 Axes>",
      "image/png": "[encoded data removed]"
     },
     "metadata": {
      "needs_background": "light"
     },
     "output_type": "display_data"
    }
   ],
   "source": [
    "config_name = \"dimer-st-cu\"\n",
    "p = create_particle(config_name)\n",
    "# Initial guess for the rotation angle\n",
    "initial_theta = 0\n",
    "# List to store the optimal theta values\n",
    "optimal_thetas = []\n",
    "boundary = (36, 36)\n",
    "\n",
    "# Loop through frames\n",
    "for fr in range(len(frames)):\n",
    "    # Get the experimental image\n",
    "    cropped_image = crop_image(frames[fr], 36, 36, params)\n",
    "\n",
    "    # Find the optimal rotation angle\n",
    "    optimal_theta = optimize_rotation_angle(\n",
    "        p, cropped_image, 10, boundary, initial_theta\n",
    "    )\n",
    "\n",
    "    # Use the found optimal rotation angle as the initial guess for the next frame\n",
    "    initial_theta = optimal_theta\n",
    "    # Append the optimal theta to the list\n",
    "    optimal_thetas.append(optimal_theta)\n",
    "\n",
    "# Plotting the optimal theta values\n",
    "plt.plot(optimal_thetas, marker='o', linestyle='-', color='b')\n",
    "plt.title('Optimal Theta Values per Frame')\n",
    "plt.xlabel('Frame')\n",
    "plt.ylabel('Theta (degrees)')\n",
    "plt.grid(True)\n",
    "plt.show()"
   ],
   "metadata": {
    "collapsed": false,
    "pycharm": {
     "name": "#%%\n"
    }
   }
  }
 ],
 "metadata": {
  "kernelspec": {
   "display_name": "Python 3",
   "language": "python",
   "name": "python3"
  },
  "language_info": {
   "codemirror_mode": {
    "name": "ipython",
    "version": 2
   },
   "file_extension": ".py",
   "mimetype": "text/x-python",
   "name": "python",
   "nbconvert_exporter": "python",
   "pygments_lexer": "ipython2",
   "version": "2.7.6"
  }
 },
 "nbformat": 4,
 "nbformat_minor": 0
}